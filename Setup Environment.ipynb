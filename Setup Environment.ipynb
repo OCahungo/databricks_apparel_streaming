{
 "cells": [
  {
   "cell_type": "markdown",
   "metadata": {
    "application/vnd.databricks.v1+cell": {
     "cellMetadata": {},
     "inputWidgets": {},
     "nuid": "a3265657-bc5f-472a-9e30-a6e561519516",
     "showTitle": false,
     "tableResultSettingsMap": {},
     "title": ""
    }
   },
   "source": [
    "# SETUP ENVIRONMENT"
   ]
  },
  {
   "cell_type": "code",
   "execution_count": 0,
   "metadata": {
    "application/vnd.databricks.v1+cell": {
     "cellMetadata": {},
     "inputWidgets": {},
     "nuid": "37660853-7d7f-42ca-a4ff-0f4d71a1f992",
     "showTitle": false,
     "tableResultSettingsMap": {},
     "title": ""
    }
   },
   "outputs": [],
   "source": [
    "from variables import *"
   ]
  },
  {
   "cell_type": "code",
   "execution_count": 0,
   "metadata": {
    "application/vnd.databricks.v1+cell": {
     "cellMetadata": {
      "byteLimit": 2048000,
      "rowLimit": 10000
     },
     "inputWidgets": {},
     "nuid": "d9339a16-9629-4066-becc-7e945dc3af40",
     "showTitle": false,
     "tableResultSettingsMap": {},
     "title": ""
    }
   },
   "outputs": [],
   "source": [
    "spark.sql(f\"CREATE CATALOG IF NOT EXISTS {CATALOG_NAME}\")\n",
    "spark.sql(f\"USE CATALOG {CATALOG_NAME}\")\n",
    "\n",
    "spark.sql(f\"CREATE SCHEMA IF NOT EXISTS {LANDING_SCHEMA}\")\n",
    "spark.sql(f\"CREATE SCHEMA IF NOT EXISTS {BRONZE_SCHEMA}\")\n",
    "spark.sql(f\"CREATE SCHEMA IF NOT EXISTS {SILVER_SCHEMA}\")\n",
    "spark.sql(f\"CREATE SCHEMA IF NOT EXISTS {GOLD_SCHEMA}\")\n",
    "\n",
    "spark.sql(f\"CREATE VOLUME IF NOT EXISTS {RAW_STREAMING_VOLUME}\")"
   ]
  },
  {
   "cell_type": "code",
   "execution_count": 0,
   "metadata": {
    "application/vnd.databricks.v1+cell": {
     "cellMetadata": {
      "byteLimit": 2048000,
      "rowLimit": 10000
     },
     "inputWidgets": {},
     "nuid": "d377f00c-ed7e-4c1a-9788-40788dbfc998",
     "showTitle": false,
     "tableResultSettingsMap": {},
     "title": ""
    }
   },
   "outputs": [],
   "source": [
    "# CREATE DIRECTORIES FOR THE RAW DATA GENERATOR\n",
    "for path in [RAW_SALES_PATH, RAW_CUSTOMERS_PATH, RAW_PRODUCTS_PATH, RAW_STORES_PATH]:\n",
    "    try:\n",
    "        dbutils.fs.ls(path)\n",
    "        print(\"Path \", path, \" already exists\")\n",
    "    except Exception:\n",
    "        dbutils.fs.mkdirs(path)\n",
    "        print(\"Created \", path)"
   ]
  }
 ],
 "metadata": {
  "application/vnd.databricks.v1+notebook": {
   "computePreferences": null,
   "dashboards": [],
   "environmentMetadata": {
    "base_environment": "",
    "environment_version": "2"
   },
   "inputWidgetPreferences": null,
   "language": "python",
   "notebookMetadata": {
    "pythonIndentUnit": 4
   },
   "notebookName": "Setup Environment",
   "widgets": {}
  },
  "language_info": {
   "name": "python"
  }
 },
 "nbformat": 4,
 "nbformat_minor": 0
}
